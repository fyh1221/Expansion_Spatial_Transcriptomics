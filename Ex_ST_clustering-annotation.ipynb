{
 "cells": [
  {
   "cell_type": "code",
   "execution_count": 57,
   "id": "9f88fb55",
   "metadata": {},
   "outputs": [],
   "source": [
    "from samalg import SAM\n",
    "from samalg.gui import SAMGUI\n",
    "import samalg.utilities as ut\n",
    "\n",
    "import scanpy.external as sce\n",
    "import scanpy as sc\n",
    "import pandas\n",
    "import numpy as np\n",
    "import pandas as pd\n",
    "import matplotlib.pyplot as plt\n",
    "import seaborn as sns\n",
    "\n",
    "from scipy import sparse, io\n",
    "from scipy import stats"
   ]
  },
  {
   "cell_type": "code",
   "execution_count": null,
   "id": "a7e14433",
   "metadata": {},
   "outputs": [],
   "source": [
    "adata = sc.read_h5ad('adata_xxx.h5ad')"
   ]
  },
  {
   "cell_type": "code",
   "execution_count": null,
   "id": "e3a67f21",
   "metadata": {},
   "outputs": [],
   "source": [
    "#SAM clustering\n",
    "\n",
    "sam = SAM(adata)\n",
    "sam.run()"
   ]
  },
  {
   "cell_type": "code",
   "execution_count": null,
   "id": "28e5f996",
   "metadata": {},
   "outputs": [],
   "source": [
    "#clusters are annotated by hand using marker genes in Figure S1 and S3 using GUI\n",
    "\n",
    "sam_gui = SAMGUI(sam)\n",
    "sam_gui.SamPlot"
   ]
  },
  {
   "cell_type": "code",
   "execution_count": null,
   "id": "d88e7954",
   "metadata": {},
   "outputs": [],
   "source": [
    "#plotting\n",
    "\n",
    "sc.pl.umap(sam.adata, color='YF_anno', frameon=True, s=20)\n",
    "sc.pl.umap(sam.adata, color='gene_name', frameon=True, s=20)\n",
    "sc.pl.spatial(sam.adata, img_key=\"hires\", color='YF_anno', size=1, alpha_img=0)\n",
    "sc.pl.spatial(sam.adata, img_key=None, color=['gene_name'])"
   ]
  },
  {
   "cell_type": "code",
   "execution_count": null,
   "id": "8d17470f",
   "metadata": {},
   "outputs": [],
   "source": [
    "#marker genes plot\n",
    "\n",
    "cond_order_new=['1_SEZ','2_GCL','3_M/T','5_GL','6_ONL','4_EPL']\n",
    "genefinal=['Sox11','Sox4','Nrep','Nfib',\n",
    "           'Nrgn','Grin2b','Pcp4','Gng4',\n",
    "           'Cdhr1','Ptprd','Grm1','Reln',\n",
    "           'Nrsn1','Vsnl1','Mcf2l','Kif5b',\n",
    "           'Ptn','Apod','Kctd12','Ptgds']\n",
    "\n",
    "sc.pl.dotplot(sam.adata, genefinal, 'YF_anno',\n",
    "              categories_order= cond_order_new, vmax=0.7,\n",
    "              dendrogram=False, save='test.pdf')"
   ]
  },
  {
   "cell_type": "code",
   "execution_count": null,
   "id": "044cc229",
   "metadata": {},
   "outputs": [],
   "source": [
    "#save annotated data\n",
    "\n",
    "sam.save_anndata('XXXX_anno.h5ad')"
   ]
  }
 ],
 "metadata": {
  "kernelspec": {
   "display_name": "Chew_SAM",
   "language": "python",
   "name": "chew_sam"
  },
  "language_info": {
   "codemirror_mode": {
    "name": "ipython",
    "version": 3
   },
   "file_extension": ".py",
   "mimetype": "text/x-python",
   "name": "python",
   "nbconvert_exporter": "python",
   "pygments_lexer": "ipython3",
   "version": "3.7.12"
  }
 },
 "nbformat": 4,
 "nbformat_minor": 5
}
