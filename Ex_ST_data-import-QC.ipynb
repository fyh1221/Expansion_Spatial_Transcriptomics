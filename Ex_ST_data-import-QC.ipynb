{
 "cells": [
  {
   "cell_type": "code",
   "execution_count": 57,
   "id": "9f88fb55",
   "metadata": {},
   "outputs": [],
   "source": [
    "from samalg import SAM\n",
    "from samalg.gui import SAMGUI\n",
    "import samalg.utilities as ut\n",
    "\n",
    "import scanpy.external as sce\n",
    "import scanpy as sc\n",
    "import pandas\n",
    "import numpy as np\n",
    "import pandas as pd\n",
    "import matplotlib.pyplot as plt\n",
    "import seaborn as sns\n",
    "\n",
    "from scipy import sparse, io\n",
    "from scipy import stats"
   ]
  },
  {
   "cell_type": "code",
   "execution_count": null,
   "id": "443c746a",
   "metadata": {},
   "outputs": [],
   "source": [
    "#import data\n",
    "\n",
    "#expanded data\n",
    "adata=sc.read_visium('20220516_lowres/exp_OC1',count_file='raw_feature_bc_matrix.h5',load_images=True)\n",
    "adata.var_names_make_unique()\n",
    "adata.var[\"mt\"] = adata_OC1.var_names.str.startswith(\"MT-\")\n",
    "sc.pp.calculate_qc_metrics(adata, qc_vars=[\"mt\"], inplace=True)\n",
    "\n",
    "adata=sc.read_visium('20220516_lowres/exp_OC2',count_file='raw_feature_bc_matrix.h5',load_images=True)\n",
    "adata.var_names_make_unique()\n",
    "adata.var[\"mt\"] = adata_OC2.var_names.str.startswith(\"MT-\")\n",
    "sc.pp.calculate_qc_metrics(adata, qc_vars=[\"mt\"], inplace=True)\n",
    "\n",
    "adata=sc.read_visium('20220516_lowres/exp_HB1',count_file='raw_feature_bc_matrix.h5',load_images=True)\n",
    "adata.var_names_make_unique()\n",
    "adata.var[\"mt\"] = adata.var_names.str.startswith(\"MT-\")\n",
    "sc.pp.calculate_qc_metrics(adata, qc_vars=[\"mt\"], inplace=True)\n",
    "\n",
    "adata=sc.read_visium('20220516_lowres/exp_HB2',count_file='raw_feature_bc_matrix.h5',load_images=True)\n",
    "adata.var_names_make_unique()\n",
    "adata.var[\"mt\"] = adata.var_names.str.startswith(\"MT-\")\n",
    "sc.pp.calculate_qc_metrics(adata, qc_vars=[\"mt\"], inplace=True)\n",
    "\n",
    "#standard ST data\n",
    "adata=sc.read_visium('visium_nonexp/MOB',count_file='raw_feature_bc_matrix.h5',load_images=True)\n",
    "adata.var_names_make_unique()\n",
    "adata.var[\"mt\"] = adata.var_names.str.startswith(\"MT-\")\n",
    "sc.pp.calculate_qc_metrics(adata, qc_vars=[\"mt\"], inplace=True)\n",
    "\n",
    "adata=sc.read_visium('visium_nonexp/Hippocampus',count_file='V1_Adult_Mouse_Brain_raw_feature_bc_matrix.h5',load_images=True)\n",
    "adata.var_names_make_unique()\n",
    "adata.var[\"mt\"] = adata.var_names.str.startswith(\"MT-\")\n",
    "sc.pp.calculate_qc_metrics(adata_Hip, qc_vars=[\"mt\"], inplace=True)"
   ]
  },
  {
   "cell_type": "code",
   "execution_count": null,
   "id": "e3bbbfdc",
   "metadata": {},
   "outputs": [],
   "source": [
    "#plot total counts & QC\n",
    "\n",
    "sc.pl.spatial(adata, img_key=None, color=[\"total_counts\"])\n",
    "sc.pp.normalize_total(adata, inplace=True)\n",
    "sc.pp.highly_variable_genes(adata, flavor=\"seurat\", n_top_genes=2000)\n",
    "\n",
    "sc.pp.pca(adata)\n",
    "sc.pp.neighbors(adata)\n",
    "sc.tl.umap(adata)\n",
    "sc.tl.leiden(adata, key_added=\"clusters\")\n",
    "\n",
    "#fileter spots and genes\n",
    "sc.pp.filter_cells(adata, min_counts=100)\n",
    "sc.pp.filter_cells(adata, max_counts=35000)\n",
    "print(f\"#cells after MT filter: {adata.n_obs}\")\n",
    "sc.pp.filter_genes(adata, min_cells=2)\n",
    "sc.pp.filter_genes(adata, max_cells=1000)\n",
    "sc.pp.normalize_total(adata, inplace=True)\n",
    "\n",
    "sc.pl.spatial(adata, img_key=\"hires\", color=[\"total_counts\", \"n_genes_by_counts\"], size=1.5, alpha_img=0)"
   ]
  },
  {
   "cell_type": "code",
   "execution_count": null,
   "id": "4513f883",
   "metadata": {},
   "outputs": [],
   "source": [
    "#save filterred/normalized data\n",
    "\n",
    "adata.write('adata_xxx.h5ad')"
   ]
  }
 ],
 "metadata": {
  "kernelspec": {
   "display_name": "Chew_SAM",
   "language": "python",
   "name": "chew_sam"
  },
  "language_info": {
   "codemirror_mode": {
    "name": "ipython",
    "version": 3
   },
   "file_extension": ".py",
   "mimetype": "text/x-python",
   "name": "python",
   "nbconvert_exporter": "python",
   "pygments_lexer": "ipython3",
   "version": "3.7.12"
  }
 },
 "nbformat": 4,
 "nbformat_minor": 5
}
